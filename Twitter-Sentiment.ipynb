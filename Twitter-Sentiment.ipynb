{
 "cells": [
  {
   "cell_type": "markdown",
   "id": "be335cf9-bb67-4e6b-b397-1d41aaff500b",
   "metadata": {},
   "source": [
    "# Twitter Sentiment Analysis"
   ]
  },
  {
   "cell_type": "markdown",
   "id": "72ec755c-0c85-45e7-a677-7f89ea4f88f8",
   "metadata": {},
   "source": [
    "Binance Smart Chain (BSC), the layer 1, or base, blockchain of crypto exchange Binance, announced a major rebranding and a push towards expansion. BSC is rebranding to BNB Chain, which stands for Build and Build, in an effort to draw a connection to Binance’s BNB token. Link to full article and tutorial for this project.\n",
    "\n",
    "Analyzing of the twitter sentiment for the BNBChain:"
   ]
  },
  {
   "cell_type": "markdown",
   "id": "e91448bb-f5f5-47fc-abae-680e194e894f",
   "metadata": {},
   "source": [
    "### Importing Libraries required for this project"
   ]
  },
  {
   "cell_type": "code",
   "execution_count": 106,
   "id": "b838cbca-66de-4d7d-8ca1-a900cdbc6ea2",
   "metadata": {},
   "outputs": [],
   "source": [
    "import numpy as np\n",
    "import pandas as pd\n",
    "import matplotlib.pyplot as plt\n",
    "import re\n",
    "import tweepy\n",
    "from textblob import TextBlob\n",
    "import datetime\n",
    "from datetime import date\n",
    "plt.style.use('Solarize_Light2')"
   ]
  },
  {
   "cell_type": "markdown",
   "id": "fc47ca22-c4d5-4729-92e9-87230be002f5",
   "metadata": {},
   "source": [
    "### Storing and Importing credentials from Twitter Dev page"
   ]
  },
  {
   "cell_type": "markdown",
   "id": "031d6b35-cf73-4bbf-9ef5-ba2c50b64b53",
   "metadata": {},
   "source": [
    "Importing the credentials from csv file using pandas"
   ]
  },
  {
   "cell_type": "code",
   "execution_count": 107,
   "id": "4c0a25cb-af97-4775-9fde-3dd5bf3c90af",
   "metadata": {},
   "outputs": [],
   "source": [
    "log = pd.read_csv('login1.csv')\n"
   ]
  },
  {
   "cell_type": "markdown",
   "id": "c3837c4d-d866-4ba0-bc75-ed6995ae81ce",
   "metadata": {},
   "source": [
    "Reading the credentials from csv to the dataframe:"
   ]
  },
  {
   "cell_type": "code",
   "execution_count": 108,
   "id": "517af1c8-4584-47fd-b537-ed5c064e660d",
   "metadata": {},
   "outputs": [],
   "source": [
    "consumerKey = log[\"key\"][0]\n",
    "consumerSecret = log[\"key\"][1]\n",
    "accessToken = log[\"key\"][2]\n",
    "accessTokenSecret = log[\"key\"][3]"
   ]
  },
  {
   "cell_type": "markdown",
   "id": "267e83a4-b282-4f40-acc0-9c73d3f5e5d6",
   "metadata": {},
   "source": [
    "### Autheticating and setting up the API"
   ]
  },
  {
   "cell_type": "markdown",
   "id": "f8583bb7-bb98-45ae-809e-80ae1de92710",
   "metadata": {},
   "source": [
    "Create the authentication object"
   ]
  },
  {
   "cell_type": "code",
   "execution_count": 109,
   "id": "cb672f03-81b1-4bee-8597-00f0cf8248f0",
   "metadata": {},
   "outputs": [],
   "source": [
    "authenticate = tweepy.OAuthHandler(consumerKey, consumerSecret)"
   ]
  },
  {
   "cell_type": "markdown",
   "id": "5c3ed6b0-a58b-4377-9844-d9a29474613e",
   "metadata": {},
   "source": [
    "Set the access token and the access token secret"
   ]
  },
  {
   "cell_type": "code",
   "execution_count": 110,
   "id": "e0895935-ebae-44b1-a6ee-c23c646333eb",
   "metadata": {},
   "outputs": [],
   "source": [
    "authenticate.set_access_token(accessToken, accessTokenSecret)"
   ]
  },
  {
   "cell_type": "markdown",
   "id": "d2c3744e-b68a-4ab3-b0b4-2e2de3002762",
   "metadata": {},
   "source": [
    "Create an API object"
   ]
  },
  {
   "cell_type": "code",
   "execution_count": 111,
   "id": "dda578b6-7515-44ff-a347-b88e056ccc1f",
   "metadata": {},
   "outputs": [],
   "source": [
    "api = tweepy.API(authenticate, wait_on_rate_limit = True)"
   ]
  },
  {
   "cell_type": "markdown",
   "id": "261a8235-f0e9-4270-9574-395b737b0e21",
   "metadata": {},
   "source": [
    "### Collecting Tweets"
   ]
  },
  {
   "cell_type": "markdown",
   "id": "0d338a5f-4a8c-4295-871b-678825e75af9",
   "metadata": {},
   "source": [
    "Collecting and gathering tweets about 'token' and filtering out any retweets 'RT' and creating a cursor object for the tweets from the last 7 days:"
   ]
  },
  {
   "cell_type": "code",
   "execution_count": 112,
   "id": "69d8898d-0402-4a78-aab1-d578e6b27be0",
   "metadata": {},
   "outputs": [],
   "source": [
    "search_term = '#BNBChain -filter:retweets'\n",
    "today = date.today()\n",
    "\n",
    "tweets = tweepy.Cursor(api.search_tweets, q=search_term, lang='en',until = today , tweet_mode='extended').items(2000)\n",
    "all_tweets = [tweet.full_text for tweet in tweets]"
   ]
  },
  {
   "cell_type": "markdown",
   "id": "16aaa2e9-045d-4156-a20d-ef2b9197fb2c",
   "metadata": {},
   "source": [
    "### Importing collected tweets into pandas dataframe:"
   ]
  },
  {
   "cell_type": "markdown",
   "id": "a928c7e5-656d-46cd-b4e8-d7bae1aa10a5",
   "metadata": {},
   "source": [
    "Collecting and gathering tweets and creating a dataframe to store and display the first five rows of the tweet"
   ]
  },
  {
   "cell_type": "code",
   "execution_count": 113,
   "id": "68c7ed0c-822e-4968-95da-6b886b77c7d7",
   "metadata": {},
   "outputs": [
    {
     "data": {
      "text/html": [
       "<div>\n",
       "<style scoped>\n",
       "    .dataframe tbody tr th:only-of-type {\n",
       "        vertical-align: middle;\n",
       "    }\n",
       "\n",
       "    .dataframe tbody tr th {\n",
       "        vertical-align: top;\n",
       "    }\n",
       "\n",
       "    .dataframe thead th {\n",
       "        text-align: right;\n",
       "    }\n",
       "</style>\n",
       "<table border=\"1\" class=\"dataframe\">\n",
       "  <thead>\n",
       "    <tr style=\"text-align: right;\">\n",
       "      <th></th>\n",
       "      <th>Tweets</th>\n",
       "    </tr>\n",
       "  </thead>\n",
       "  <tbody>\n",
       "    <tr>\n",
       "      <th>0</th>\n",
       "      <td>@kundunsan @shield2protocol \\n$SHIELD \\n\\n@ber...</td>\n",
       "    </tr>\n",
       "    <tr>\n",
       "      <th>1</th>\n",
       "      <td>@mjackswap a really nice project, the blockcha...</td>\n",
       "    </tr>\n",
       "    <tr>\n",
       "      <th>2</th>\n",
       "      <td>a really nice project, the blockchain technolo...</td>\n",
       "    </tr>\n",
       "    <tr>\n",
       "      <th>3</th>\n",
       "      <td>@mjackswap Wow sir what a good project.\\n@Akas...</td>\n",
       "    </tr>\n",
       "    <tr>\n",
       "      <th>4</th>\n",
       "      <td>Soon will be listing 🤞\\n\\n#Mercor $MRCR #MRCR ...</td>\n",
       "    </tr>\n",
       "  </tbody>\n",
       "</table>\n",
       "</div>"
      ],
      "text/plain": [
       "                                              Tweets\n",
       "0  @kundunsan @shield2protocol \\n$SHIELD \\n\\n@ber...\n",
       "1  @mjackswap a really nice project, the blockcha...\n",
       "2  a really nice project, the blockchain technolo...\n",
       "3  @mjackswap Wow sir what a good project.\\n@Akas...\n",
       "4  Soon will be listing 🤞\\n\\n#Mercor $MRCR #MRCR ..."
      ]
     },
     "execution_count": 113,
     "metadata": {},
     "output_type": "execute_result"
    }
   ],
   "source": [
    "df = pd.DataFrame(all_tweets, columns=['Tweets'])\n",
    "df.head(5)"
   ]
  },
  {
   "cell_type": "markdown",
   "id": "4f270511-f69b-4e44-8483-06906d09a4b7",
   "metadata": {},
   "source": [
    "### Cleaning the Tweets:"
   ]
  },
  {
   "cell_type": "markdown",
   "id": "8ffa7836-b057-49d8-8d9a-6579f19f8d29",
   "metadata": {},
   "source": [
    "Creating a function to clean the tweets:"
   ]
  },
  {
   "cell_type": "code",
   "execution_count": 114,
   "id": "f50993aa-c8f1-4866-a1f4-5f0718d1100c",
   "metadata": {},
   "outputs": [],
   "source": [
    "def cleanTwt(twt):\n",
    "    twt = re.sub('#bitcoin','bitcoin',twt) #removes the '#' from bitcoin\n",
    "    twt = re.sub('#bitcoin','Bitcoin',twt) #removes the # from Bitcoin\n",
    "    twt = re.sub('#[A-Za-z0-0]+','',twt) #Removes any strings with a '#'\n",
    "    twt = re.sub('\\\\n','',twt) #Removes the '\\n' string\n",
    "    twt = re.sub('\\\\\\n','',twt) #Removes the '\\n' string\n",
    "    twt = re.sub('https?:\\/\\/S+', '', twt) #Removes any hyperlinks\n",
    "    twt = re.sub('u\"\\U0001F600-\\U0001F64F', '', twt)# emoticons\n",
    "    \n",
    "    return twt"
   ]
  },
  {
   "cell_type": "markdown",
   "id": "31330b0e-e506-48a8-b237-49c4a266f39a",
   "metadata": {},
   "source": [
    "Calling the cleaned tweets into the dataframe:"
   ]
  },
  {
   "cell_type": "code",
   "execution_count": 115,
   "id": "e79c2f22-f11f-47f6-8b12-eb96d032b832",
   "metadata": {},
   "outputs": [],
   "source": [
    "df['Cleaned_Tweets'] = df['Tweets'].apply(cleanTwt)"
   ]
  },
  {
   "cell_type": "code",
   "execution_count": 116,
   "id": "d22782d3-ba2b-40ea-b697-8a6727e3cf3c",
   "metadata": {},
   "outputs": [],
   "source": [
    "def remove_emojis(twt):\n",
    "    emoj = re.compile(\"[\"\n",
    "        u\"\\U0001F600-\\U0001F64F\"  # emoticons\n",
    "        u\"\\U0001F300-\\U0001F5FF\"  # symbols & pictographs\n",
    "        u\"\\U0001F680-\\U0001F6FF\"  # transport & map symbols\n",
    "        u\"\\U0001F1E0-\\U0001F1FF\"  # flags (iOS)\n",
    "        u\"\\U00002500-\\U00002BEF\"  # chinese char\n",
    "        u\"\\U00002702-\\U000027B0\"\n",
    "        u\"\\U00002702-\\U000027B0\"\n",
    "        u\"\\U000024C2-\\U0001F251\"\n",
    "        u\"\\U0001f926-\\U0001f937\"\n",
    "        u\"\\U00010000-\\U0010ffff\"\n",
    "        u\"\\u2640-\\u2642\" \n",
    "        u\"\\u2600-\\u2B55\"\n",
    "        u\"\\u200d\"\n",
    "        u\"\\u23cf\"\n",
    "        u\"\\u23e9\"\n",
    "        u\"\\u231a\"\n",
    "        u\"\\ufe0f\"  # dingbats\n",
    "        u\"\\u3030\"\n",
    "                      \"]+\", re.UNICODE)\n",
    "    return re.sub(emoj, '', twt)"
   ]
  },
  {
   "cell_type": "code",
   "execution_count": 117,
   "id": "92dcaad6-2e2a-4884-863b-80cca1122890",
   "metadata": {},
   "outputs": [
    {
     "data": {
      "text/html": [
       "<div>\n",
       "<style scoped>\n",
       "    .dataframe tbody tr th:only-of-type {\n",
       "        vertical-align: middle;\n",
       "    }\n",
       "\n",
       "    .dataframe tbody tr th {\n",
       "        vertical-align: top;\n",
       "    }\n",
       "\n",
       "    .dataframe thead th {\n",
       "        text-align: right;\n",
       "    }\n",
       "</style>\n",
       "<table border=\"1\" class=\"dataframe\">\n",
       "  <thead>\n",
       "    <tr style=\"text-align: right;\">\n",
       "      <th></th>\n",
       "      <th>Final_Tweets</th>\n",
       "    </tr>\n",
       "  </thead>\n",
       "  <tbody>\n",
       "    <tr>\n",
       "      <th>0</th>\n",
       "      <td>@kundunsan @shield2protocol $SHIELD @berry_dat...</td>\n",
       "    </tr>\n",
       "    <tr>\n",
       "      <th>1</th>\n",
       "      <td>@mjackswap a really nice project, the blockcha...</td>\n",
       "    </tr>\n",
       "    <tr>\n",
       "      <th>2</th>\n",
       "      <td>a really nice project, the blockchain technolo...</td>\n",
       "    </tr>\n",
       "    <tr>\n",
       "      <th>3</th>\n",
       "      <td>@mjackswap Wow sir what a good project.@Akashg...</td>\n",
       "    </tr>\n",
       "    <tr>\n",
       "      <th>4</th>\n",
       "      <td>Soon will be listing  $MRCR     https://t.co/U...</td>\n",
       "    </tr>\n",
       "  </tbody>\n",
       "</table>\n",
       "</div>"
      ],
      "text/plain": [
       "                                        Final_Tweets\n",
       "0  @kundunsan @shield2protocol $SHIELD @berry_dat...\n",
       "1  @mjackswap a really nice project, the blockcha...\n",
       "2  a really nice project, the blockchain technolo...\n",
       "3  @mjackswap Wow sir what a good project.@Akashg...\n",
       "4  Soon will be listing  $MRCR     https://t.co/U..."
      ]
     },
     "execution_count": 117,
     "metadata": {},
     "output_type": "execute_result"
    }
   ],
   "source": [
    "df['Final_Tweets'] = df['Cleaned_Tweets'].apply(remove_emojis)\n",
    "df = df.drop(columns=['Tweets', 'Cleaned_Tweets'])\n",
    "df.head()"
   ]
  },
  {
   "cell_type": "markdown",
   "id": "31178565-ecb1-4191-a66e-f07e51cdba5f",
   "metadata": {},
   "source": [
    "### Extracting Subjectivity and Polarity scores:"
   ]
  },
  {
   "cell_type": "markdown",
   "id": "8ec74f66-5e27-4986-a849-7a057135638e",
   "metadata": {},
   "source": [
    "Create a function to get the subjectivity"
   ]
  },
  {
   "cell_type": "code",
   "execution_count": 118,
   "id": "750f71e9-1444-4900-8fb6-8a2eb16ba42c",
   "metadata": {},
   "outputs": [],
   "source": [
    "def getSubjectivity(twt):\n",
    "    return TextBlob(twt).sentiment.subjectivity"
   ]
  },
  {
   "cell_type": "markdown",
   "id": "6e6f3b8d-8ee6-42f6-84fa-cc24f7d15966",
   "metadata": {},
   "source": [
    "Create a function to get the polarity"
   ]
  },
  {
   "cell_type": "code",
   "execution_count": 119,
   "id": "73ac54ab-aab8-43db-a3c4-117f9e9824da",
   "metadata": {},
   "outputs": [],
   "source": [
    "def getPolarity(twt):\n",
    "    return TextBlob(twt).sentiment.polarity"
   ]
  },
  {
   "cell_type": "markdown",
   "id": "99d785fc-b130-427a-9e71-58fcf56d7f2c",
   "metadata": {},
   "source": [
    "### Displaying the score into the dataframe columns:"
   ]
  },
  {
   "cell_type": "code",
   "execution_count": 120,
   "id": "7504016a-5611-4d5e-8ad4-8b4ba10ae7aa",
   "metadata": {},
   "outputs": [
    {
     "data": {
      "text/html": [
       "<div>\n",
       "<style scoped>\n",
       "    .dataframe tbody tr th:only-of-type {\n",
       "        vertical-align: middle;\n",
       "    }\n",
       "\n",
       "    .dataframe tbody tr th {\n",
       "        vertical-align: top;\n",
       "    }\n",
       "\n",
       "    .dataframe thead th {\n",
       "        text-align: right;\n",
       "    }\n",
       "</style>\n",
       "<table border=\"1\" class=\"dataframe\">\n",
       "  <thead>\n",
       "    <tr style=\"text-align: right;\">\n",
       "      <th></th>\n",
       "      <th>Final_Tweets</th>\n",
       "      <th>Subjectivity</th>\n",
       "      <th>Polarity</th>\n",
       "    </tr>\n",
       "  </thead>\n",
       "  <tbody>\n",
       "    <tr>\n",
       "      <th>0</th>\n",
       "      <td>@kundunsan @shield2protocol $SHIELD @berry_dat...</td>\n",
       "      <td>0.000000</td>\n",
       "      <td>0.000000</td>\n",
       "    </tr>\n",
       "    <tr>\n",
       "      <th>1</th>\n",
       "      <td>@mjackswap a really nice project, the blockcha...</td>\n",
       "      <td>0.583333</td>\n",
       "      <td>0.596667</td>\n",
       "    </tr>\n",
       "    <tr>\n",
       "      <th>2</th>\n",
       "      <td>a really nice project, the blockchain technolo...</td>\n",
       "      <td>0.583333</td>\n",
       "      <td>0.596667</td>\n",
       "    </tr>\n",
       "    <tr>\n",
       "      <th>3</th>\n",
       "      <td>@mjackswap Wow sir what a good project.@Akashg...</td>\n",
       "      <td>0.800000</td>\n",
       "      <td>0.400000</td>\n",
       "    </tr>\n",
       "    <tr>\n",
       "      <th>4</th>\n",
       "      <td>Soon will be listing  $MRCR     https://t.co/U...</td>\n",
       "      <td>0.000000</td>\n",
       "      <td>0.000000</td>\n",
       "    </tr>\n",
       "  </tbody>\n",
       "</table>\n",
       "</div>"
      ],
      "text/plain": [
       "                                        Final_Tweets  Subjectivity  Polarity\n",
       "0  @kundunsan @shield2protocol $SHIELD @berry_dat...      0.000000  0.000000\n",
       "1  @mjackswap a really nice project, the blockcha...      0.583333  0.596667\n",
       "2  a really nice project, the blockchain technolo...      0.583333  0.596667\n",
       "3  @mjackswap Wow sir what a good project.@Akashg...      0.800000  0.400000\n",
       "4  Soon will be listing  $MRCR     https://t.co/U...      0.000000  0.000000"
      ]
     },
     "execution_count": 120,
     "metadata": {},
     "output_type": "execute_result"
    }
   ],
   "source": [
    "df['Subjectivity'] = df['Final_Tweets'].apply(getSubjectivity)\n",
    "df['Polarity'] = df['Final_Tweets'].apply(getPolarity)\n",
    "\n",
    "df.head()"
   ]
  },
  {
   "cell_type": "markdown",
   "id": "6cd22084-12dc-426d-861e-d817d08aaaff",
   "metadata": {},
   "source": [
    "### Setting up sentiment scores:"
   ]
  },
  {
   "cell_type": "markdown",
   "id": "9af70279-3edb-4e0d-a384-2518495a2f31",
   "metadata": {},
   "source": [
    "Creating a function to get the sentiment text/scores:"
   ]
  },
  {
   "cell_type": "code",
   "execution_count": 121,
   "id": "a1c061d9-3b5f-4e97-b224-7ff6ce9ac217",
   "metadata": {},
   "outputs": [],
   "source": [
    "def getSentiment(score):\n",
    "    if score < 0:\n",
    "        return 'Negative'\n",
    "    elif score == 0:\n",
    "        return 'Neutral'\n",
    "    else:\n",
    "        return 'Positive'"
   ]
  },
  {
   "cell_type": "markdown",
   "id": "69367119-27f7-4a22-be97-dd5fc253917d",
   "metadata": {},
   "source": [
    "Setting up a column to display the sentiments:"
   ]
  },
  {
   "cell_type": "code",
   "execution_count": 122,
   "id": "b1364f50-17b2-4a9d-b2fb-3878a08fef58",
   "metadata": {},
   "outputs": [
    {
     "data": {
      "text/html": [
       "<div>\n",
       "<style scoped>\n",
       "    .dataframe tbody tr th:only-of-type {\n",
       "        vertical-align: middle;\n",
       "    }\n",
       "\n",
       "    .dataframe tbody tr th {\n",
       "        vertical-align: top;\n",
       "    }\n",
       "\n",
       "    .dataframe thead th {\n",
       "        text-align: right;\n",
       "    }\n",
       "</style>\n",
       "<table border=\"1\" class=\"dataframe\">\n",
       "  <thead>\n",
       "    <tr style=\"text-align: right;\">\n",
       "      <th></th>\n",
       "      <th>Final_Tweets</th>\n",
       "      <th>Subjectivity</th>\n",
       "      <th>Polarity</th>\n",
       "      <th>Sentiment</th>\n",
       "    </tr>\n",
       "  </thead>\n",
       "  <tbody>\n",
       "    <tr>\n",
       "      <th>0</th>\n",
       "      <td>@kundunsan @shield2protocol $SHIELD @berry_dat...</td>\n",
       "      <td>0.000000</td>\n",
       "      <td>0.000000</td>\n",
       "      <td>Neutral</td>\n",
       "    </tr>\n",
       "    <tr>\n",
       "      <th>1</th>\n",
       "      <td>@mjackswap a really nice project, the blockcha...</td>\n",
       "      <td>0.583333</td>\n",
       "      <td>0.596667</td>\n",
       "      <td>Positive</td>\n",
       "    </tr>\n",
       "    <tr>\n",
       "      <th>2</th>\n",
       "      <td>a really nice project, the blockchain technolo...</td>\n",
       "      <td>0.583333</td>\n",
       "      <td>0.596667</td>\n",
       "      <td>Positive</td>\n",
       "    </tr>\n",
       "    <tr>\n",
       "      <th>3</th>\n",
       "      <td>@mjackswap Wow sir what a good project.@Akashg...</td>\n",
       "      <td>0.800000</td>\n",
       "      <td>0.400000</td>\n",
       "      <td>Positive</td>\n",
       "    </tr>\n",
       "    <tr>\n",
       "      <th>4</th>\n",
       "      <td>Soon will be listing  $MRCR     https://t.co/U...</td>\n",
       "      <td>0.000000</td>\n",
       "      <td>0.000000</td>\n",
       "      <td>Neutral</td>\n",
       "    </tr>\n",
       "  </tbody>\n",
       "</table>\n",
       "</div>"
      ],
      "text/plain": [
       "                                        Final_Tweets  Subjectivity  Polarity  \\\n",
       "0  @kundunsan @shield2protocol $SHIELD @berry_dat...      0.000000  0.000000   \n",
       "1  @mjackswap a really nice project, the blockcha...      0.583333  0.596667   \n",
       "2  a really nice project, the blockchain technolo...      0.583333  0.596667   \n",
       "3  @mjackswap Wow sir what a good project.@Akashg...      0.800000  0.400000   \n",
       "4  Soon will be listing  $MRCR     https://t.co/U...      0.000000  0.000000   \n",
       "\n",
       "  Sentiment  \n",
       "0   Neutral  \n",
       "1  Positive  \n",
       "2  Positive  \n",
       "3  Positive  \n",
       "4   Neutral  "
      ]
     },
     "execution_count": 122,
     "metadata": {},
     "output_type": "execute_result"
    }
   ],
   "source": [
    "df['Sentiment'] = df['Polarity'].apply(getSentiment)\n",
    "df.head()"
   ]
  },
  {
   "cell_type": "code",
   "execution_count": 123,
   "id": "cfa6999b-c19a-4e79-857a-1aba4db85576",
   "metadata": {},
   "outputs": [
    {
     "data": {
      "text/html": [
       "<div>\n",
       "<style scoped>\n",
       "    .dataframe tbody tr th:only-of-type {\n",
       "        vertical-align: middle;\n",
       "    }\n",
       "\n",
       "    .dataframe tbody tr th {\n",
       "        vertical-align: top;\n",
       "    }\n",
       "\n",
       "    .dataframe thead th {\n",
       "        text-align: right;\n",
       "    }\n",
       "</style>\n",
       "<table border=\"1\" class=\"dataframe\">\n",
       "  <thead>\n",
       "    <tr style=\"text-align: right;\">\n",
       "      <th></th>\n",
       "      <th>Subjectivity</th>\n",
       "      <th>Polarity</th>\n",
       "    </tr>\n",
       "  </thead>\n",
       "  <tbody>\n",
       "    <tr>\n",
       "      <th>count</th>\n",
       "      <td>815.000000</td>\n",
       "      <td>815.000000</td>\n",
       "    </tr>\n",
       "    <tr>\n",
       "      <th>mean</th>\n",
       "      <td>0.438719</td>\n",
       "      <td>0.338032</td>\n",
       "    </tr>\n",
       "    <tr>\n",
       "      <th>std</th>\n",
       "      <td>0.308062</td>\n",
       "      <td>0.312069</td>\n",
       "    </tr>\n",
       "    <tr>\n",
       "      <th>min</th>\n",
       "      <td>0.000000</td>\n",
       "      <td>-0.500000</td>\n",
       "    </tr>\n",
       "    <tr>\n",
       "      <th>25%</th>\n",
       "      <td>0.179167</td>\n",
       "      <td>0.000000</td>\n",
       "    </tr>\n",
       "    <tr>\n",
       "      <th>50%</th>\n",
       "      <td>0.497917</td>\n",
       "      <td>0.333333</td>\n",
       "    </tr>\n",
       "    <tr>\n",
       "      <th>75%</th>\n",
       "      <td>0.650000</td>\n",
       "      <td>0.566667</td>\n",
       "    </tr>\n",
       "    <tr>\n",
       "      <th>max</th>\n",
       "      <td>1.000000</td>\n",
       "      <td>1.000000</td>\n",
       "    </tr>\n",
       "  </tbody>\n",
       "</table>\n",
       "</div>"
      ],
      "text/plain": [
       "       Subjectivity    Polarity\n",
       "count    815.000000  815.000000\n",
       "mean       0.438719    0.338032\n",
       "std        0.308062    0.312069\n",
       "min        0.000000   -0.500000\n",
       "25%        0.179167    0.000000\n",
       "50%        0.497917    0.333333\n",
       "75%        0.650000    0.566667\n",
       "max        1.000000    1.000000"
      ]
     },
     "execution_count": 123,
     "metadata": {},
     "output_type": "execute_result"
    }
   ],
   "source": [
    "df.describe()"
   ]
  },
  {
   "cell_type": "markdown",
   "id": "6a9b757e-4324-4893-9554-69e34988918b",
   "metadata": {},
   "source": [
    "### Plotting"
   ]
  },
  {
   "cell_type": "markdown",
   "id": "5b8edfdc-c5ff-4db5-b565-1c0c5c420df1",
   "metadata": {},
   "source": [
    "Creating a scatter plot to show the subjectivity and the polarity:"
   ]
  },
  {
   "cell_type": "code",
   "execution_count": 126,
   "id": "e7af09bc-9a69-472b-9bd7-06366df7bd57",
   "metadata": {},
   "outputs": [
    {
     "data": {
      "image/png": "[encoded data removed]",
      "text/plain": [
       "<Figure size 432x288 with 1 Axes>"
      ]
     },
     "metadata": {},
     "output_type": "display_data"
    }
   ],
   "source": [
    "df['Sentiment'].value_counts().plot(kind='bar')\n",
    "plt.title('Extracted Sentiment Bar Plot for BNBChain')\n",
    "plt.xlabel('Sentiment')\n",
    "plt.ylabel('Number of Tweets')\n",
    "plt.show()"
   ]
  },
  {
   "cell_type": "code",
   "execution_count": 125,
   "id": "3c3080f9-c9a7-4de0-abd1-4774bf126f6e",
   "metadata": {},
   "outputs": [
    {
     "data": {
      "image/png": "[encoded data removed]",
      "text/plain": [
       "<Figure size 432x288 with 1 Axes>"
      ]
     },
     "metadata": {},
     "output_type": "display_data"
    }
   ],
   "source": [
    "    colors = np.where(df.Sentiment == 'Positive','royalblue','cornflowerblue')\n",
    "    plt.scatter(df.Polarity, df.Subjectivity, s=120, color= colors)\n",
    "    plt.title('Sentiment Analysis')\n",
    "    plt.xlabel('Polarity')\n",
    "    plt.ylabel('Subjectivity')\n",
    "    plt.show()"
   ]
  },
  {
   "cell_type": "code",
   "execution_count": null,
   "id": "c8e3e293-eb51-41e6-914f-6ed2f2d0cf0e",
   "metadata": {},
   "outputs": [],
   "source": []
  }
 ],
 "metadata": {
  "kernelspec": {
   "display_name": "Python 3 (ipykernel)",
   "language": "python",
   "name": "python3"
  },
  "language_info": {
   "codemirror_mode": {
    "name": "ipython",
    "version": 3
   },
   "file_extension": ".py",
   "mimetype": "text/x-python",
   "name": "python",
   "nbconvert_exporter": "python",
   "pygments_lexer": "ipython3",
   "version": "3.9.7"
  }
 },
 "nbformat": 4,
 "nbformat_minor": 5
}
